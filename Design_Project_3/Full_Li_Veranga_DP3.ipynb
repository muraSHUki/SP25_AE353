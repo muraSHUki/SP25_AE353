{
 "cells": [
  {
   "cell_type": "markdown",
   "metadata": {},
   "source": [
    "# Design Project 3  \n",
    "*Attitude‑Control Analysis & Simulation of a 4‑Wheel Spacecraft*\n",
    "\n",
    "**Authors:** Jason Li and Joshua Veranga  \n",
    "**Course:** AE353: Aerospace Control Systems  \n",
    "\n",
    "> *Abstract* — We design, tune, and validate an attitude‑control architecture for a rigid‑body spacecraft actuated by four reaction wheels. After deriving the full nonlinear equations of motion, we linearize about a rest‑to‑dock equilibrium and synthesize an LQR controller with a Kalman‑filter state observer. \n"
   ]
  },
  {
   "cell_type": "markdown",
   "metadata": {},
   "source": [
    "## 1 - Imports  "
   ]
  },
  {
   "cell_type": "code",
   "execution_count": null,
   "metadata": {},
   "outputs": [],
   "source": [
    "import sympy as sym\n",
    "import numpy as np\n",
    "import ae353_spacecraft_design as design\n",
    "import ae353_spacecraft_simulate as simulate\n",
    "from sympy.utilities.lambdify import lambdify\n",
    "from scipy.linalg import solve_continuous_are\n",
    "import matplotlib.pyplot as plt\n",
    "np.set_printoptions(suppress=True)"
   ]
  },
  {
   "cell_type": "markdown",
   "metadata": {},
   "source": [
    "## 2 - Wheel & Star Geometry  \n"
   ]
  },
  {
   "cell_type": "code",
   "execution_count": null,
   "metadata": {},
   "outputs": [],
   "source": [
    "wheels = [\n",
    "    {\"alpha\":  np.pi/2,   \"delta\": 0.0},        #  (0, +2.2, 0)\n",
    "    {\"alpha\": -np.pi/2,   \"delta\": 0.0},        #  (0, -2.2, 0)\n",
    "    {\"alpha\":  np.pi,     \"delta\": 0.0},        #  (-2.2, 0, 0)\n",
    "    {\"alpha\":  0.0,       \"delta\": -np.pi/2}    #  (0, 0, -2.2)\n",
    "]\n",
    "\n",
    "m, J = design.create_spacecraft(wheels)\n",
    "\n",
    "stars = [\n",
    "    {'alpha':  0.0577, 'delta':  0.00},\n",
    "    {'alpha': -0.0289, 'delta':  0.05},\n",
    "    {'alpha': -0.0289, 'delta': -0.05}\n",
    "]\n",
    "\n",
    "design.create_stars(stars)"
   ]
  },
  {
   "cell_type": "markdown",
   "metadata": {},
   "source": [
    "## 3 - Spacecraft Controller Setup"
   ]
  },
  {
   "cell_type": "markdown",
   "metadata": {},
   "source": [
    "### 3.1 - Equations of Motion"
   ]
  },
  {
   "cell_type": "code",
   "execution_count": null,
   "metadata": {},
   "outputs": [],
   "source": [
    "# Define yaw, pitch, roll angles\n",
    "psi, theta, phi = sym.symbols('psi, theta, phi')\n",
    "\n",
    "# Define angular velocities\n",
    "w_x, w_y, w_z = sym.symbols('w_x, w_y, w_z')\n",
    "\n",
    "# Define torques\n",
    "tau_1, tau_2, tau_3, tau_4 = sym.symbols('tau_1, tau_2, tau_3, tau_4')\n",
    "\n",
    "# Compute resultant torques\n",
    "T1 = - tau_1 * sym.Matrix(wheels[0]['xyz']) / np.linalg.norm(wheels[0]['xyz'])\n",
    "T2 = - tau_2 * sym.Matrix(wheels[1]['xyz']) / np.linalg.norm(wheels[1]['xyz'])\n",
    "T3 = - tau_3 * sym.Matrix(wheels[2]['xyz']) / np.linalg.norm(wheels[2]['xyz'])\n",
    "T4 = - tau_4 * sym.Matrix(wheels[3]['xyz']) / np.linalg.norm(wheels[3]['xyz'])\n",
    "T = sym.nsimplify(T1 + T2 + T3 + T4)\n",
    "\n",
    "# Define rotation matrices\n",
    "Rz = sym.Matrix([[sym.cos(psi), -sym.sin(psi), 0], [sym.sin(psi), sym.cos(psi), 0], [0, 0, 1]])\n",
    "Ry = sym.Matrix([[sym.cos(theta), 0, sym.sin(theta)], [0, 1, 0], [-sym.sin(theta), 0, sym.cos(theta)]])\n",
    "Rx = sym.Matrix([[1, 0, 0], [0, sym.cos(phi), -sym.sin(phi)], [0, sym.sin(phi), sym.cos(phi)]])\n",
    "\n",
    "# Define the transformation from angular velocity to angular rates\n",
    "ex = sym.Matrix([[1], [0], [0]])\n",
    "ey = sym.Matrix([[0], [1], [0]])\n",
    "ez = sym.Matrix([[0], [0], [1]])\n",
    "M = sym.simplify(sym.Matrix.hstack((Ry @ Rx).T @ ez, Rx.T @ ey, ex).inv(), full=True)\n",
    "\n",
    "# Define euler's equations\n",
    "Jx, Jy, Jz = [sym.nsimplify(j) for j in np.diag(J)]\n",
    "euler = sym.Matrix([[(1 / Jx) * (T[0] + (Jy - Jz) * w_y * w_z)],\n",
    "                    [(1 / Jy) * (T[1] + (Jz - Jx) * w_z * w_x)],\n",
    "                    [(1 / Jz) * (T[2] + (Jx - Jy) * w_x * w_y)]])\n",
    "\n",
    "# Define equations of motion\n",
    "f = sym.simplify(sym.Matrix.vstack(M * sym.Matrix([[w_x], [w_y], [w_z]]), euler), full=True)\n",
    "\n",
    "alpha, delta = sym.symbols('alpha, delta')\n",
    "\n",
    "# Position of star in space frame\n",
    "p_star_in_space = sym.Matrix([[sym.cos(alpha) * sym.cos(delta)],\n",
    "                              [sym.sin(alpha) * sym.cos(delta)],\n",
    "                              [sym.sin(delta)]])\n",
    "\n",
    "# Orientation of body frame in space frame\n",
    "R_body_in_space = Rz * Ry * Rx\n",
    "\n",
    "# Position of star in body frame (assuming origin of body and space frames are the same)\n",
    "p_star_in_body = R_body_in_space.T * p_star_in_space\n",
    "\n",
    "# Position of star in image frame\n",
    "r = sym.nsimplify(design.scope_radius)\n",
    "p_star_in_image = (1 / r) * sym.Matrix([[p_star_in_body[1] / p_star_in_body[0]],\n",
    "                                        [p_star_in_body[2] / p_star_in_body[0]]])\n",
    "\n",
    "# Sensor model for each star\n",
    "g = sym.simplify(p_star_in_image, full=True)"
   ]
  },
  {
   "cell_type": "markdown",
   "metadata": {},
   "source": [
    "### 3.2 - Solve for the Controller Gain Matrices"
   ]
  },
  {
   "cell_type": "code",
   "execution_count": null,
   "metadata": {},
   "outputs": [],
   "source": [
    "# --- Define symbols ---\n",
    "psi, theta, phi = sym.symbols('psi, theta, phi')\n",
    "w_x, w_y, w_z = sym.symbols('w_x, w_y, w_z')\n",
    "tau_1, tau_2, tau_3, tau_4 = sym.symbols('tau_1, tau_2, tau_3, tau_4')\n",
    "\n",
    "# Define state and input\n",
    "x = sym.Matrix([psi, theta, phi, w_x, w_y, w_z])\n",
    "u = sym.Matrix([tau_1, tau_2, tau_3, tau_4])\n",
    "\n",
    "\n",
    "# Compute Jacobians\n",
    "A = f.jacobian(x)\n",
    "B = f.jacobian(u)\n",
    "\n",
    "# Define equilibrium point (rest + zero orientation + zero torque)\n",
    "eq_pt = {\n",
    "    psi: 0, theta: 0, phi: 0,\n",
    "    w_x: 0, w_y: 0, w_z: 0,\n",
    "    tau_1: 0, tau_2: 0, tau_3: 0, tau_4: 0\n",
    "}\n",
    "\n",
    "# Substitute equilibrium into Jacobians\n",
    "A_eq = A.subs(eq_pt)\n",
    "B_eq = B.subs(eq_pt)\n",
    "\n",
    "# Lambdify to get numerical versions\n",
    "A_func = lambdify((), A_eq)\n",
    "B_func = lambdify((), B_eq)\n",
    "\n",
    "# Evaluate as numpy arrays\n",
    "A_num = np.array(A_func(), dtype=np.float64)\n",
    "B_num = np.array(B_func(), dtype=np.float64)\n",
    "\n",
    "# Convert symbolic A_eq and B_eq to numpy arrays\n",
    "A_eq_np = np.array(A_eq).astype(np.float64)\n",
    "B_eq_np = np.array(B_eq).astype(np.float64)\n",
    "\n",
    "# Define Q and R as numpy arrays\n",
    "Q = np.diag([\n",
    "    10000, 10000, 10000,    # phi, theta, psi → keep spacecraft pointing correctly\n",
    "    1, 1, 1                 # w_x, w_y, w_z → care less about rotational speed\n",
    "])\n",
    "\n",
    "R = np.eye(4)  # penalize all 4 torque inputs equally\n",
    "\n",
    "# Solve CARE: A.T P + P A - P B R^-1 B.T P + Q = 0\n",
    "P = solve_continuous_are(A_eq_np, B_eq_np, Q, R)\n",
    "\n",
    "# Compute LQR gain K\n",
    "K = np.linalg.inv(R) @ B_eq_np.T @ P\n",
    "\n",
    "g_all = []\n",
    "for s in stars:\n",
    "    g_i = g.subs({alpha: s['alpha'], delta: s['delta']})\n",
    "    g_all.append(g_i)\n",
    "# Stack measurement model\n",
    "h = sym.Matrix.vstack(*g_all)  # size 2N x 1\n",
    "\n",
    "# Derivative w.r.t orientation part of state\n",
    "x_sensor = sym.Matrix([psi, theta, phi])\n",
    "C = h.jacobian(x_sensor)\n",
    "\n",
    "# Evaluate at equilibrium (psi=theta=phi=0)\n",
    "C_eq = C.subs({psi: 0, theta: 0, phi: 0})\n",
    "\n",
    "# Convert to numpy function\n",
    "C_func = lambdify((), C_eq)\n",
    "C_num = np.array(C_func(), dtype=np.float64)\n",
    "\n",
    "# Pad with zeros to make it 2N x 6 (full state)\n",
    "C_full = np.hstack((C_num, np.zeros((C_num.shape[0], 3))))\n",
    "\n",
    "# Define observer tuning matrices \n",
    "Qo = np.eye(A_num.shape[0]) * 1     # 6x6\n",
    "Ro = np.eye(C_full.shape[0]) * 1    # 2N x 2N\n",
    "\n",
    "# Solve the dual LQR problem\n",
    "Po = solve_continuous_are(A_num.T, C_full.T, Qo, Ro)\n",
    "\n",
    "# Compute observer gain\n",
    "L = Po @ C_full.T @ np.linalg.inv(Ro)"
   ]
  },
  {
   "cell_type": "markdown",
   "metadata": {},
   "source": [
    "## 4 - Controller"
   ]
  },
  {
   "cell_type": "markdown",
   "metadata": {},
   "source": [
    "### 4.1 - Define Controller Class"
   ]
  },
  {
   "cell_type": "code",
   "execution_count": null,
   "metadata": {},
   "outputs": [],
   "source": [
    "class Controller:\n",
    "    def __init__(self, A_eq_np, B_eq_np, C_full, K, L, dt=0.01):\n",
    "        self.A = A_eq_np        # (6x6) system dynamics matrix\n",
    "        self.B = B_eq_np        # (6x4) control input matrix\n",
    "        self.C = C_full         # (2N x 6) measurement matrix\n",
    "        self.K = K              # (4x6) LQR gain\n",
    "        self.L = L              # (6 x 2N) observer gain\n",
    "        self.dt = dt\n",
    "        self.xhat = np.zeros(6)  # initial state estimate\n",
    "        \n",
    "    def reset(self):\n",
    "        pass\n",
    "    \n",
    "    def run(self, t, star_measurements):\n",
    "        \"\"\"\n",
    "        The variable t is the current time.\n",
    "\n",
    "        The variable star_measurements is a 1d array of length twice the\n",
    "        number N of stars:\n",
    "\n",
    "            [y_1, z_1, y_2, z_2, ..., y_N, z_N]\n",
    "        \n",
    "        The image coordinates y_i and z_i of the i'th star (for i = 1, ..., N)\n",
    "        are at index 2 * i - 2 and 2 * i - 1 of this array, respectively.\n",
    "        \"\"\"\n",
    "        \n",
    "        y = np.array(star_measurements)\n",
    "\n",
    "        # Predicted measurement from current estimate\n",
    "        y_hat = self.C @ self.xhat\n",
    "\n",
    "        # Compute control\n",
    "        u = -self.K @ self.xhat\n",
    "\n",
    "        # Update observer\n",
    "        dxhat = self.A @ self.xhat + self.B @ u + self.L @ (y - y_hat)\n",
    "        self.xhat += dxhat * self.dt  \n",
    "\n",
    "        return tuple(u)"
   ]
  },
  {
   "cell_type": "markdown",
   "metadata": {},
   "source": [
    "### 4.2 - Instantiate controller  "
   ]
  },
  {
   "cell_type": "code",
   "execution_count": null,
   "metadata": {},
   "outputs": [],
   "source": [
    "controller = Controller(A_eq_np, B_eq_np, C_full, K, L)"
   ]
  },
  {
   "cell_type": "markdown",
   "metadata": {},
   "source": [
    "## 5 - Controller Error"
   ]
  },
  {
   "cell_type": "markdown",
   "metadata": {},
   "source": [
    "### 5.1 - Initialize Simulator"
   ]
  },
  {
   "cell_type": "code",
   "execution_count": null,
   "metadata": {},
   "outputs": [],
   "source": [
    "simulator = simulate.Simulator(\n",
    "    scope_noise=0.0,\n",
    "    display=False,\n",
    "    seed=None,\n",
    ")"
   ]
  },
  {
   "cell_type": "markdown",
   "metadata": {},
   "source": [
    "### 5.2 - Reset Simulator and Controller"
   ]
  },
  {
   "cell_type": "code",
   "execution_count": null,
   "metadata": {},
   "outputs": [],
   "source": [
    "simulator.reset(\n",
    "    initial_conditions    =None,\n",
    "    scope_noise           =0.01,       # <-- standard deviation of each image coordinate of each star tracker measurement\n",
    "    space_debris          =True,      # <-- whether or not there is space debris\n",
    "    docking_time          =30.00      # <-- how long it takes for the space-cat to dock with the spacecraft\n",
    ")\n",
    "\n",
    "controller.reset()"
   ]
  },
  {
   "cell_type": "markdown",
   "metadata": {},
   "source": [
    "### 5.3 - Run Simulation"
   ]
  },
  {
   "cell_type": "code",
   "execution_count": null,
   "metadata": {},
   "outputs": [],
   "source": [
    "data = simulator.run(\n",
    "    controller,           # <-- required (an instance of your Controller class)\n",
    "    max_time=32.00,         # <-- optional (how long you want to run the simulation in seconds)\n",
    "    data_filename=None,   # <-- optional (name of file to which you want data saved, e.g., 'my_data.json')\n",
    "    video_filename=None,  # <-- optional (name of file to which you want video saved, e.g., 'my_video.mov')\n",
    "    print_debug=False,    # <-- optional (whether to print debug text - this is recommended when saving video)\n",
    ")"
   ]
  },
  {
   "cell_type": "markdown",
   "metadata": {},
   "source": [
    "### 5.4 - Plot Error Curves"
   ]
  },
  {
   "cell_type": "code",
   "execution_count": null,
   "metadata": {},
   "outputs": [],
   "source": [
    "# --- Trim to min length to sync data and xhat_log ---\n",
    "min_len = min(len(controller.xhat_log), len(data['psi']))\n",
    "psi = np.array(data['psi'][:min_len])\n",
    "theta = np.array(data['theta'][:min_len])\n",
    "phi = np.array(data['phi'][:min_len])\n",
    "t = np.array(data['t'][:min_len])\n",
    "xhat = np.array(controller.xhat_log[:min_len])\n",
    "\n",
    "# Compute estimation errors (xhat - x)\n",
    "psi_err = xhat[:, 0] - psi\n",
    "theta_err = xhat[:, 1] - theta\n",
    "phi_err = xhat[:, 2] - phi\n",
    "\n",
    "# --- Standard color palette ---\n",
    "colors = {\n",
    "    'psi': 'tab:blue',\n",
    "    'theta': 'tab:green',\n",
    "    'phi': 'tab:orange'\n",
    "}\n",
    "\n",
    "# --- Figure 1: True Euler Angles Only (x - x_eq) ---\n",
    "fig1, axs1 = plt.subplots(3, 1, figsize=(22, 12), sharex=True)\n",
    "fig1.subplots_adjust(right=0.78, hspace=0.3)\n",
    "\n",
    "axs1[0].plot(t, psi, color=colors['psi'], linewidth=1)\n",
    "axs1[0].set_ylabel(r'$\\psi - \\psi_{eq}$ (rad)', fontsize=24)\n",
    "axs1[0].grid(True, linestyle='--', linewidth=0.6)\n",
    "axs1[0].set_xlim([0, 60])\n",
    "axs1[0].tick_params(labelsize=14)\n",
    "\n",
    "axs1[1].plot(t, theta, color=colors['theta'], linewidth=1)\n",
    "axs1[1].set_ylabel(r'$\\theta - \\theta_{eq}$ (rad)', fontsize=24)\n",
    "axs1[1].grid(True, linestyle='--', linewidth=0.6)\n",
    "axs1[1].set_xlim([0, 60])\n",
    "axs1[1].tick_params(labelsize=14)\n",
    "\n",
    "axs1[2].plot(t, phi, color=colors['phi'], linewidth=1)\n",
    "axs1[2].set_xlabel(\"Time (s)\", fontsize=24)\n",
    "axs1[2].set_ylabel(r'$\\phi - \\phi_{eq}$ (rad)', fontsize=24)\n",
    "axs1[2].grid(True, linestyle='--', linewidth=0.6)\n",
    "axs1[2].set_xlim([0, 60])\n",
    "axs1[2].tick_params(labelsize=14)\n",
    "\n",
    "plt.tight_layout()\n",
    "plt.show()\n",
    "\n",
    "# --- Figure 2: Estimation Error Only (xhat - x) ---\n",
    "fig2, axs2 = plt.subplots(3, 1, figsize=(22, 12), sharex=True)\n",
    "fig2.subplots_adjust(right=0.78, hspace=0.3)\n",
    "\n",
    "axs2[0].plot(t, psi_err, color=colors['psi'], linewidth=1)\n",
    "axs2[0].set_ylabel(r'$\\hat{\\psi} - \\psi$ (rad)', fontsize=24)\n",
    "axs2[0].grid(True, linestyle='--', linewidth=0.6)\n",
    "axs2[0].set_xlim([0, 60])\n",
    "axs2[0].tick_params(labelsize=14)\n",
    "\n",
    "axs2[1].plot(t, theta_err, color=colors['theta'], linewidth=1)\n",
    "axs2[1].set_ylabel(r'$\\hat{\\theta} - \\theta$ (rad)', fontsize=24)\n",
    "axs2[1].grid(True, linestyle='--', linewidth=0.6)\n",
    "axs2[1].set_xlim([0, 60])\n",
    "axs2[1].tick_params(labelsize=14)\n",
    "\n",
    "axs2[2].plot(t, phi_err, color=colors['phi'], linewidth=1)\n",
    "axs2[2].set_xlabel(\"Time (s)\", fontsize=18)\n",
    "axs2[2].set_ylabel(r'$\\hat{\\phi} - \\phi$ (rad)', fontsize=24)\n",
    "axs2[2].grid(True, linestyle='--', linewidth=0.6)\n",
    "axs2[2].set_xlim([0, 60])\n",
    "axs2[2].tick_params(labelsize=14)\n",
    "\n",
    "plt.tight_layout()\n",
    "plt.show()"
   ]
  },
  {
   "cell_type": "markdown",
   "metadata": {},
   "source": [
    "## 6 - Eta Sweep Simulation"
   ]
  },
  {
   "cell_type": "markdown",
   "metadata": {},
   "source": [
    "### 6.1 - Run Simulation"
   ]
  },
  {
   "cell_type": "code",
   "execution_count": null,
   "metadata": {},
   "outputs": [],
   "source": [
    "# Define the different Q weight values to test\n",
    "q_values = [1, 10, 100, 1000, 10000, 100000]\n",
    "n_trials = 100\n",
    "results = []\n",
    "\n",
    "for q_val in q_values:\n",
    "    Q = np.diag([q_val, q_val, q_val, 1, 1, 1])\n",
    "    P = solve_continuous_are(A_eq_np, B_eq_np, Q, R)\n",
    "    K = np.linalg.inv(R) @ B_eq_np.T @ P\n",
    "\n",
    "    # Rebuild controller with new K\n",
    "    controller = Controller(A_eq_np, B_eq_np, C_full, K, L)\n",
    "    \n",
    "    success_count = 0\n",
    "    for trial in range(n_trials):\n",
    "        simulator = simulate.Simulator(display=False, seed=None)\n",
    "        simulator.reset(\n",
    "            initial_conditions=None,\n",
    "            scope_noise=0.1,\n",
    "            space_debris=True,\n",
    "            docking_time=20.0,\n",
    "        )\n",
    "        controller.reset()\n",
    "        data = simulator.run(controller, max_time=25.0, print_debug=False)\n",
    "\n",
    "        if simulator.has_docked():\n",
    "            success_count += 1\n",
    "        #print(f\"Q={q_val}, Trial {trial+1}/{n_trials}, Docked={simulator.has_docked()}\")\n",
    "\n",
    "    success_rate = success_count / n_trials * 100\n",
    "    results.append((q_val, success_rate))\n",
    "    #print(f\"Q=[{q_val}, {q_val}, {q_val}, 1, 1, 1]: Success rate = {success_rate:.1f}%\")\n",
    "\n",
    "# Final results summary\n",
    "print(\"\\n--- Summary ---\")\n",
    "for q_val, success_rate in results:\n",
    "    print(f\"Q=[{q_val}, {q_val}, {q_val}, 1, 1, 1] -> Success Rate: {success_rate:.1f}%\")"
   ]
  },
  {
   "cell_type": "markdown",
   "metadata": {},
   "source": [
    "### 6.2 - Plot Simulation Data"
   ]
  },
  {
   "cell_type": "code",
   "execution_count": null,
   "metadata": {},
   "outputs": [],
   "source": [
    "# Unpack Q values and success rates from results\n",
    "q_vals, success_rates = zip(*results)\n",
    "\n",
    "# Plotting\n",
    "plt.figure(figsize=(10, 6))\n",
    "plt.semilogx(q_vals, success_rates, marker='o', linestyle='-', linewidth=2)\n",
    "\n",
    "#plt.title(\"Success Rate vs Q Matrix Weight\", fontsize=14)\n",
    "plt.xlabel(\"Q Value (log scale)\", fontsize=12)\n",
    "plt.ylabel(\"Success Rate (%)\", fontsize=12)\n",
    "plt.grid(True, which=\"both\", linestyle='--', linewidth=0.7)\n",
    "plt.xticks(q_vals, labels=[str(q) for q in q_vals])\n",
    "plt.ylim(0, 100)\n",
    "plt.tight_layout()\n",
    "plt.show()"
   ]
  }
 ],
 "metadata": {
  "kernelspec": {
   "display_name": "ct-env",
   "language": "python",
   "name": "python3"
  },
  "language_info": {
   "codemirror_mode": {
    "name": "ipython",
    "version": 3
   },
   "file_extension": ".py",
   "mimetype": "text/x-python",
   "name": "python",
   "nbconvert_exporter": "python",
   "pygments_lexer": "ipython3",
   "version": "3.12.2"
  }
 },
 "nbformat": 4,
 "nbformat_minor": 2
}
